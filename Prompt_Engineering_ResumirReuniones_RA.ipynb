{
  "nbformat": 4,
  "nbformat_minor": 0,
  "metadata": {
    "colab": {
      "provenance": []
    },
    "kernelspec": {
      "name": "python3",
      "display_name": "Python 3"
    },
    "language_info": {
      "name": "python"
    }
  },
  "cells": [
    {
      "cell_type": "markdown",
      "source": [
        "# Prompt Engineering - Resumir reuniones"
      ],
      "metadata": {
        "id": "Xnly8cjv92Ta"
      }
    },
    {
      "cell_type": "markdown",
      "source": [
        "Se detecta la necesidad de generar una aplicación para el departamento de ingeniería en la empresa en la que trabajo. Es posible generar el transcript de las reuniones, a partir el cual, se puede utilizar dicha información para generar información valiosa, tanto para los asistentes/participantes de la reunión como para aquellos involucrados de forma indirecta. Optimizando los tiempos dedicados 'after meeting' a transmitir lo hablado. Lo suyo es poder generar un aplicativo que nada más terminar, se pueda generar por correo electrónico dichos resúmenes de forma automatizada. A efectos de la práctica, se limita el alcance a las pruebas de resúmen y extracción de información utilizando modelos llm.\n",
        "\n",
        "Se desarrolla una solución para generar resúmenes de reuniones, pasándole la transcripción de la misma. Además, se desarrolla para que, a partir del resumen generado, el sistema sea capaz de generar los puntos más importantes de la misma.\n",
        "\n",
        "Para ello, se utilizará gpt-3.5-turbo."
      ],
      "metadata": {
        "id": "l0kfqMW-HQeU"
      }
    },
    {
      "cell_type": "markdown",
      "source": [
        "## Configuración de la API de OpenAI\n",
        "Este código importa las librerías necesarias para trabajar con la API de OpenAI y configura la clave de la API de OpenAI para ser utilizada en las solicitudes a la API.\n"
      ],
      "metadata": {
        "id": "TxNcwJ1Pra6p"
      }
    },
    {
      "cell_type": "code",
      "execution_count": 1,
      "metadata": {
        "id": "qSEzKDc2rDD7",
        "colab": {
          "base_uri": "https://localhost:8080/"
        },
        "outputId": "c4646929-5e2e-4c98-c812-ecacf3a52dc2"
      },
      "outputs": [
        {
          "output_type": "stream",
          "name": "stdout",
          "text": [
            "Collecting openai\n",
            "  Downloading openai-1.35.14-py3-none-any.whl (328 kB)\n",
            "\u001b[2K     \u001b[90m━━━━━━━━━━━━━━━━━━━━━━━━━━━━━━━━━━━━━━━━\u001b[0m \u001b[32m328.5/328.5 kB\u001b[0m \u001b[31m1.1 MB/s\u001b[0m eta \u001b[36m0:00:00\u001b[0m\n",
            "\u001b[?25hRequirement already satisfied: anyio<5,>=3.5.0 in /usr/local/lib/python3.10/dist-packages (from openai) (3.7.1)\n",
            "Requirement already satisfied: distro<2,>=1.7.0 in /usr/lib/python3/dist-packages (from openai) (1.7.0)\n",
            "Collecting httpx<1,>=0.23.0 (from openai)\n",
            "  Downloading httpx-0.27.0-py3-none-any.whl (75 kB)\n",
            "\u001b[2K     \u001b[90m━━━━━━━━━━━━━━━━━━━━━━━━━━━━━━━━━━━━━━━━\u001b[0m \u001b[32m75.6/75.6 kB\u001b[0m \u001b[31m4.0 MB/s\u001b[0m eta \u001b[36m0:00:00\u001b[0m\n",
            "\u001b[?25hRequirement already satisfied: pydantic<3,>=1.9.0 in /usr/local/lib/python3.10/dist-packages (from openai) (2.8.2)\n",
            "Requirement already satisfied: sniffio in /usr/local/lib/python3.10/dist-packages (from openai) (1.3.1)\n",
            "Requirement already satisfied: tqdm>4 in /usr/local/lib/python3.10/dist-packages (from openai) (4.66.4)\n",
            "Requirement already satisfied: typing-extensions<5,>=4.7 in /usr/local/lib/python3.10/dist-packages (from openai) (4.12.2)\n",
            "Requirement already satisfied: idna>=2.8 in /usr/local/lib/python3.10/dist-packages (from anyio<5,>=3.5.0->openai) (3.7)\n",
            "Requirement already satisfied: exceptiongroup in /usr/local/lib/python3.10/dist-packages (from anyio<5,>=3.5.0->openai) (1.2.1)\n",
            "Requirement already satisfied: certifi in /usr/local/lib/python3.10/dist-packages (from httpx<1,>=0.23.0->openai) (2024.7.4)\n",
            "Collecting httpcore==1.* (from httpx<1,>=0.23.0->openai)\n",
            "  Downloading httpcore-1.0.5-py3-none-any.whl (77 kB)\n",
            "\u001b[2K     \u001b[90m━━━━━━━━━━━━━━━━━━━━━━━━━━━━━━━━━━━━━━━━\u001b[0m \u001b[32m77.9/77.9 kB\u001b[0m \u001b[31m5.9 MB/s\u001b[0m eta \u001b[36m0:00:00\u001b[0m\n",
            "\u001b[?25hCollecting h11<0.15,>=0.13 (from httpcore==1.*->httpx<1,>=0.23.0->openai)\n",
            "  Downloading h11-0.14.0-py3-none-any.whl (58 kB)\n",
            "\u001b[2K     \u001b[90m━━━━━━━━━━━━━━━━━━━━━━━━━━━━━━━━━━━━━━━━\u001b[0m \u001b[32m58.3/58.3 kB\u001b[0m \u001b[31m3.1 MB/s\u001b[0m eta \u001b[36m0:00:00\u001b[0m\n",
            "\u001b[?25hRequirement already satisfied: annotated-types>=0.4.0 in /usr/local/lib/python3.10/dist-packages (from pydantic<3,>=1.9.0->openai) (0.7.0)\n",
            "Requirement already satisfied: pydantic-core==2.20.1 in /usr/local/lib/python3.10/dist-packages (from pydantic<3,>=1.9.0->openai) (2.20.1)\n",
            "Installing collected packages: h11, httpcore, httpx, openai\n",
            "Successfully installed h11-0.14.0 httpcore-1.0.5 httpx-0.27.0 openai-1.35.14\n"
          ]
        }
      ],
      "source": [
        "%pip install openai"
      ]
    },
    {
      "cell_type": "code",
      "source": [
        "from openai import OpenAI\n",
        "import getpass\n",
        "\n",
        "api_key = getpass.getpass(\"Enter your OpenAI API Key:\")\n",
        "\n",
        "client = OpenAI(api_key = api_key)"
      ],
      "metadata": {
        "id": "-4uGihSGreR6",
        "colab": {
          "base_uri": "https://localhost:8080/"
        },
        "outputId": "1851d1bb-ebf5-4b3d-d036-2a9602ee48a8"
      },
      "execution_count": 8,
      "outputs": [
        {
          "name": "stdout",
          "output_type": "stream",
          "text": [
            "Enter your OpenAI API Key:··········\n"
          ]
        }
      ]
    },
    {
      "cell_type": "markdown",
      "source": [
        "## Función para obtener respuestas de GPT\n",
        "Este código define una función `get_completion` que toma un prompt y opcionalmente un modelo (por defecto `gpt-3.5-turbo`) y utiliza la API de OpenAI para obtener una respuesta. La función configura la solicitud con una temperatura de 0 para respuestas más deterministas y retorna el contenido de la respuesta.\n"
      ],
      "metadata": {
        "id": "_JyUgwaHriUC"
      }
    },
    {
      "cell_type": "code",
      "source": [
        "def get_completion(prompt, model=\"gpt-3.5-turbo\", temperature = 0):\n",
        "    messages = [{\"role\": \"user\", \"content\": prompt}]\n",
        "    response = client.chat.completions.create(\n",
        "        model=model,\n",
        "        messages=messages,\n",
        "        temperature=temperature,\n",
        "    )\n",
        "    return response.choices[0].message.content"
      ],
      "metadata": {
        "id": "0DKtJJgarkym"
      },
      "execution_count": 3,
      "outputs": []
    },
    {
      "cell_type": "markdown",
      "source": [
        "## Reunión inicial que se cuenta con transcripción (reunión semanal de seguimiento de proyecto)"
      ],
      "metadata": {
        "id": "vftewJ6wsC7s"
      }
    },
    {
      "cell_type": "code",
      "source": [
        "initial_meeting = \"\"\"\n",
        "Fecha: 16 de julio de 2024\n",
        "Hora: 10:00 AM - 11:00 AM\n",
        "Lugar: Sala de Conferencias, Departamento de Automatización\n",
        "Proyecto: Célula de Soldadura para Cliente Alemán del Sector Automóvil\n",
        "\n",
        "Asistentes:\n",
        "\n",
        "Ana Martínez (Project Manager)\n",
        "Carlos López (Technical Lead)\n",
        "Dr. Hans Müller (Cliente, Representante del Cliente Alemán)\n",
        "Elena Rodríguez (Ingeniera de Automatización)\n",
        "Javier García (Ingeniero Mecánico)\n",
        "Transcripción de la Reunión:\n",
        "Ana Martínez (Project Manager):\n",
        "Buenos días a todos. Gracias por estar aquí. Vamos a comenzar con la actualización del proyecto de la célula de soldadura para nuestro cliente alemán. Dr. Müller, es un placer tenerlo con nosotros. Quisiera repasar el estado actual del proyecto y los próximos pasos para asegurar que todo esté en orden para la implementación este verano.\n",
        "\n",
        "Dr. Hans Müller (Cliente):\n",
        "Guten Morgen, Ana. Es un placer estar aquí. Estoy ansioso por ver cómo avanza el proyecto. ¿Podrías darnos un resumen de dónde estamos actualmente?\n",
        "\n",
        "Ana Martínez (Project Manager):\n",
        "Claro. Hasta la fecha, hemos completado el diseño conceptual y estamos en la fase de desarrollo del prototipo. Carlos, ¿puedes darnos más detalles sobre el progreso técnico?\n",
        "\n",
        "Carlos López (Technical Lead):\n",
        "Sí, por supuesto. Actualmente, estamos finalizando los esquemas eléctricos y el diseño del sistema de control. Elena ha estado trabajando en la programación del PLC y los primeros tests han sido positivos. Javier, ¿podrías actualizar sobre el estado del diseño mecánico?\n",
        "\n",
        "Javier García (Ingeniero Mecánico):\n",
        "Claro. Hemos completado el diseño 3D de la estructura de la célula de soldadura. La simulación de resistencia ha sido satisfactoria y estamos listos para comenzar con la fabricación de los componentes mecánicos la próxima semana.\n",
        "\n",
        "Elena Rodríguez (Ingeniera de Automatización):\n",
        "En cuanto a la automatización, he programado las secuencias básicas del PLC y hemos realizado pruebas de comunicación con los robots de soldadura. Todo parece estar funcionando bien hasta ahora.\n",
        "\n",
        "Dr. Hans Müller (Cliente):\n",
        "Eso suena muy bien. Una pregunta, ¿cómo estamos manejando la integración del sistema de visión para el control de calidad?\n",
        "\n",
        "Carlos López (Technical Lead):\n",
        "Buena pregunta, Dr. Müller. Hemos seleccionado el sistema de visión que mejor se adapta a nuestras necesidades y estamos en proceso de integrarlo con el PLC. Los primeros ensayos han mostrado que la precisión es adecuada para nuestros requerimientos.\n",
        "\n",
        "Ana Martínez (Project Manager):\n",
        "Perfecto. Entonces, nuestros próximos pasos son finalizar la programación del PLC, comenzar la fabricación de los componentes mecánicos y seguir con las pruebas de integración del sistema de visión. ¿Hay alguna otra pregunta o preocupación?\n",
        "\n",
        "Dr. Hans Müller (Cliente):\n",
        "No, eso cubre mis inquietudes por ahora. Me gustaría recibir un informe detallado semanalmente para estar al tanto del progreso.\n",
        "\n",
        "Ana Martínez (Project Manager):\n",
        "Por supuesto, Dr. Müller. Nos aseguraremos de enviarle un informe cada semana. Si no hay más asuntos, damos por concluida la reunión. Gracias a todos por su tiempo y esfuerzo.\n",
        "\"\"\""
      ],
      "metadata": {
        "id": "ByFQEB6dsGi9"
      },
      "execution_count": 4,
      "outputs": []
    },
    {
      "cell_type": "markdown",
      "source": [
        "## Resumir el reunión y obtener la información más importante de la misma.\n"
      ],
      "metadata": {
        "id": "y2pf9iP1saJD"
      }
    },
    {
      "cell_type": "code",
      "source": [
        "prompt = f\"\"\"\n",
        "Your task is to generate a summary of a technical meeting transcription. \\\n",
        "Most important information is included. Meetings are for an automation project.\n",
        "\n",
        "Summarize the transcription below, delimited by being concise \\\n",
        "and efficient in your answers, in at most 2 paragraphs.\n",
        "\n",
        "Review: ```{initial_meeting}```\n",
        "\"\"\"\n",
        "\n",
        "response = get_completion(prompt)\n",
        "print(response)"
      ],
      "metadata": {
        "id": "V3N6_volsgyV",
        "colab": {
          "base_uri": "https://localhost:8080/"
        },
        "outputId": "e239aec0-6b77-4557-be44-d8fab2a3a0a2"
      },
      "execution_count": 9,
      "outputs": [
        {
          "output_type": "stream",
          "name": "stdout",
          "text": [
            "The technical meeting held on July 16, 2024, at the Automation Department Conference Room focused on the Welding Cell Project for a German Automotive Client. Attendees included the Project Manager, Technical Lead, Client Representative, Automation Engineer, and Mechanical Engineer. The project has progressed with the completion of the conceptual design, prototype development, electrical schematics, control system design, PLC programming, successful mechanical structure simulation, and initiation of mechanical component manufacturing. Integration of a vision system for quality control is in progress, showing promising results. Weekly detailed progress reports will be provided to the client.\n",
            "\n",
            "Overall, the meeting highlighted the positive advancements in the automation project, with a focus on finalizing PLC programming, mechanical component manufacturing, and vision system integration testing. The client expressed satisfaction with the progress and requested weekly updates to stay informed. The team's collaboration and efforts were acknowledged, ensuring a clear path forward for the successful implementation of the welding cell for the German automotive client.\n"
          ]
        }
      ]
    },
    {
      "cell_type": "markdown",
      "source": [
        "## Resumir la reunión sacando los 'bullet points'\n"
      ],
      "metadata": {
        "id": "uojiq8bfs9ow"
      }
    },
    {
      "cell_type": "code",
      "source": [
        "prompt = f\"\"\"\n",
        "Your task is to generate the bullet points of the meeting.\n",
        "\n",
        "Create a list of the main 3 points discussed in the meeting transcription below.\n",
        "\n",
        "Meeting transcript: ```{initial_meeting}```\n",
        "\"\"\"\n",
        "\n",
        "response = get_completion(prompt)\n",
        "print(response)"
      ],
      "metadata": {
        "id": "Aj5LCf8ys79D",
        "colab": {
          "base_uri": "https://localhost:8080/"
        },
        "outputId": "f7786e0c-e9ae-4aa6-8581-5146c0541c0e"
      },
      "execution_count": 10,
      "outputs": [
        {
          "output_type": "stream",
          "name": "stdout",
          "text": [
            "- Estado actual del proyecto: Se ha completado el diseño conceptual y se está en la fase de desarrollo del prototipo.\n",
            "- Progreso técnico: Finalización de los esquemas eléctricos, diseño del sistema de control y pruebas positivas del PLC.\n",
            "- Estado del diseño mecánico: Se ha completado el diseño 3D de la estructura de la célula de soldadura y se está listo para comenzar con la fabricación de los componentes mecánicos.\n"
          ]
        }
      ]
    },
    {
      "cell_type": "markdown",
      "source": [
        "## Extraer el título de la reunión\n"
      ],
      "metadata": {
        "id": "0ZytOqqjuDzN"
      }
    },
    {
      "cell_type": "code",
      "source": [
        "prompt = f\"\"\"\n",
        "Your task is to extract the title of the meeting after checking \\\n",
        "information discussed in the transcription.\n",
        "\n",
        "Create the title of the meeting transcription below, in at most 4 words.\n",
        "\n",
        "Meeting transcript: ```{initial_meeting}```\n",
        "\"\"\"\n",
        "\n",
        "response = get_completion(prompt)\n",
        "print(response)"
      ],
      "metadata": {
        "id": "Dvum81PluH7t",
        "colab": {
          "base_uri": "https://localhost:8080/"
        },
        "outputId": "0b005fac-4993-48b1-9946-d3cc54945df0"
      },
      "execution_count": 11,
      "outputs": [
        {
          "output_type": "stream",
          "name": "stdout",
          "text": [
            "Célula de Soldadura Actualización\n"
          ]
        }
      ]
    },
    {
      "cell_type": "markdown",
      "source": [
        "## Extraer las tareas a desarrollar para cada uno de los asistentes"
      ],
      "metadata": {
        "id": "fTtPSeICUqGj"
      }
    },
    {
      "cell_type": "code",
      "source": [
        "prompt = f\"\"\"\n",
        "Your task is to extract the work assignment to be done for each person that attend the meeting.\n",
        "\n",
        "Create a list of the works that need to be done for each person, be brief.\n",
        "\n",
        "\n",
        "Meeting transcript: ```{initial_meeting}```\n",
        "\"\"\"\n",
        "\n",
        "response = get_completion(prompt)\n",
        "print(response)"
      ],
      "metadata": {
        "colab": {
          "base_uri": "https://localhost:8080/"
        },
        "id": "ffesB2rpUqTd",
        "outputId": "49cd83b7-666f-4f21-e893-be661afd6cab"
      },
      "execution_count": 12,
      "outputs": [
        {
          "output_type": "stream",
          "name": "stdout",
          "text": [
            "- Ana Martínez (Project Manager): \n",
            "  - Finalizar la programación del PLC.\n",
            "  - Enviar informe detallado semanalmente al Dr. Müller.\n",
            "\n",
            "- Carlos López (Technical Lead):\n",
            "  - Finalizar los esquemas eléctricos y el diseño del sistema de control.\n",
            "  - Integrar el sistema de visión con el PLC.\n",
            "\n",
            "- Elena Rodríguez (Ingeniera de Automatización):\n",
            "  - Continuar con la programación del PLC.\n",
            "  - Realizar pruebas de comunicación con los robots de soldadura.\n",
            "\n",
            "- Javier García (Ingeniero Mecánico):\n",
            "  - Comenzar la fabricación de los componentes mecánicos de la célula de soldadura.\n"
          ]
        }
      ]
    },
    {
      "cell_type": "markdown",
      "source": [
        "## Seguimiento de reuniones del proyecto\n",
        "Generar un pequeño resumen de las reuniones con su titulo para tener un mejor seguimiento de los avances con las anotaciones más importantes de cada una"
      ],
      "metadata": {
        "id": "Z9AQVTXuvtxq"
      }
    },
    {
      "cell_type": "code",
      "source": [
        "meeting_1 = initial_meeting\n",
        "\n",
        "meeting_2 = \"\"\"\n",
        "Fecha: 23 de julio de 2024\n",
        "Hora: 10:00 AM - 11:00 AM\n",
        "Lugar: Sala de Conferencias, Departamento de Automatización\n",
        "Proyecto: Célula de Soldadura para Cliente Alemán del Sector Automóvil\n",
        "\n",
        "Asistentes:\n",
        "\n",
        "Ana Martínez (Project Manager)\n",
        "Carlos López (Technical Lead)\n",
        "Dr. Hans Müller (Cliente, Representante del Cliente Alemán)\n",
        "Elena Rodríguez (Ingeniera de Automatización)\n",
        "Javier García (Ingeniero Mecánico)\n",
        "Luis Fernández (Ingeniero de Calidad)\n",
        "Transcripción de la Reunión:\n",
        "Ana Martínez (Project Manager):\n",
        "Buenos días a todos. Gracias por asistir. Vamos a empezar con la actualización semanal del proyecto de la célula de soldadura. Dr. Müller, le enviamos el informe detallado el viernes pasado. ¿Tiene alguna pregunta o comentario al respecto?\n",
        "\n",
        "Dr. Hans Müller (Cliente):\n",
        "Buenos días, Ana. Sí, revisé el informe y estoy satisfecho con el progreso. Sin embargo, me gustaría obtener más detalles sobre el cronograma de integración del sistema de visión y las pruebas finales.\n",
        "\n",
        "Ana Martínez (Project Manager):\n",
        "Entendido. Carlos, ¿puedes proporcionar una actualización detallada sobre la integración del sistema de visión?\n",
        "\n",
        "Carlos López (Technical Lead):\n",
        "Claro. La integración del sistema de visión está avanzando según lo planeado. Esta semana hemos completado la configuración de las cámaras y hemos iniciado las pruebas de detección de defectos en las soldaduras. Los resultados iniciales son prometedores y estamos afinando los parámetros para mejorar la precisión.\n",
        "\n",
        "Elena Rodríguez (Ingeniera de Automatización):\n",
        "En cuanto a la programación del PLC, hemos ajustado las secuencias de control para incorporar los datos del sistema de visión en tiempo real. Estamos coordinando con el equipo de mecánica para asegurar que todo esté alineado para las pruebas finales.\n",
        "\n",
        "Javier García (Ingeniero Mecánico):\n",
        "En el lado mecánico, hemos recibido los primeros componentes fabricados y estamos ensamblando la estructura de la célula. La instalación de los robots de soldadura comenzará mañana y esperamos finalizar esta fase para el viernes.\n",
        "\n",
        "Dr. Hans Müller (Cliente):\n",
        "Eso suena excelente. ¿Y cómo estamos gestionando las pruebas de calidad? Luis, creo que no tuvimos la oportunidad de conocernos antes.\n",
        "\n",
        "Luis Fernández (Ingeniero de Calidad):\n",
        "Buenos días, Dr. Müller. Encantado de conocerte. Estoy supervisando las pruebas de calidad para asegurar que todos los componentes y el sistema completo cumplan con los estándares requeridos. Ya hemos definido los criterios de aceptación y las pruebas iniciales del sistema de visión indican que estamos bien encaminados.\n",
        "\n",
        "Ana Martínez (Project Manager):\n",
        "Perfecto. Entonces, nuestros próximos pasos son completar el ensamblaje de la célula de soldadura, continuar con las pruebas de integración del sistema de visión y realizar las pruebas de calidad necesarias. Luis, ¿puedes preparar un informe de calidad preliminar para la próxima reunión?\n",
        "\n",
        "Luis Fernández (Ingeniero de Calidad):\n",
        "Claro, Ana. Tendré el informe listo para la próxima reunión.\n",
        "\n",
        "Dr. Hans Müller (Cliente):\n",
        "Gracias a todos por sus esfuerzos. Estoy muy satisfecho con el progreso. ¿Hay algún riesgo o desafío que debamos tener en cuenta en esta fase?\n",
        "\n",
        "Carlos López (Technical Lead):\n",
        "Hasta ahora, no hemos encontrado problemas significativos. Sin embargo, estamos monitoreando de cerca la integración del sistema de visión, ya que es un componente crítico para la calidad final de las soldaduras.\n",
        "\n",
        "Ana Martínez (Project Manager):\n",
        "Excelente. Si no hay más preguntas o comentarios, concluyamos la reunión. Gracias a todos por su dedicación y esfuerzo. Nos vemos la próxima semana.\n",
        "\"\"\"\n",
        "\n",
        "meeting_3 = \"\"\"\n",
        "Fecha: 30 de julio de 2024\n",
        "Hora: 10:00 AM - 11:00 AM\n",
        "Lugar: Sala de Conferencias, Departamento de Automatización\n",
        "Proyecto: Célula de Soldadura para Cliente Alemán del Sector Automóvil\n",
        "\n",
        "Asistentes:\n",
        "\n",
        "Ana Martínez (Project Manager)\n",
        "Carlos López (Technical Lead)\n",
        "Dr. Hans Müller (Cliente, Representante del Cliente Alemán)\n",
        "Elena Rodríguez (Ingeniera de Automatización)\n",
        "Javier García (Ingeniero Mecánico)\n",
        "Luis Fernández (Ingeniero de Calidad)\n",
        "Transcripción de la Reunión:\n",
        "Ana Martínez (Project Manager):\n",
        "Buenos días a todos. Gracias por asistir a la reunión semanal de actualización del proyecto. Vamos a comenzar revisando el estado actual y los próximos pasos. Luis, ¿puedes empezar con el informe preliminar de calidad?\n",
        "\n",
        "Luis Fernández (Ingeniero de Calidad):\n",
        "Claro, Ana. Durante la última semana, hemos realizado varias pruebas de calidad en los componentes ensamblados y en la integración del sistema de visión. Hasta ahora, los resultados son positivos. El sistema de visión ha identificado correctamente los defectos en las pruebas de soldadura, y la precisión ha mejorado conforme ajustamos los parámetros. Adjunto un informe preliminar con los detalles de estas pruebas.\n",
        "\n",
        "Ana Martínez (Project Manager):\n",
        "Excelente, gracias Luis. Carlos, ¿cómo va la integración final del sistema de visión y las pruebas con el PLC?\n",
        "\n",
        "Carlos López (Technical Lead):\n",
        "La integración del sistema de visión con el PLC está casi completa. Hemos sincronizado los datos del sistema de visión en tiempo real con las secuencias de control del PLC. Las pruebas finales se realizarán esta semana para garantizar que todo funcione correctamente durante la operación continua.\n",
        "\n",
        "Elena Rodríguez (Ingeniera de Automatización):\n",
        "Además, hemos revisado las secuencias de control del PLC para asegurarnos de que sean robustas y tolerantes a fallos. Las pruebas hasta ahora han sido satisfactorias, pero seguiremos monitorizando y ajustando según sea necesario.\n",
        "\n",
        "Ana Martínez (Project Manager):\n",
        "Perfecto. Javier, ¿puedes actualizar sobre el ensamblaje mecánico y la instalación de los robots de soldadura?\n",
        "\n",
        "Javier García (Ingeniero Mecánico):\n",
        "Sí, claro. El ensamblaje mecánico de la célula de soldadura está casi completo. Los robots de soldadura se instalaron según el cronograma y hemos comenzado con las pruebas de movimiento y calibración. Todo está funcionando según lo previsto, y esperamos completar la calibración para el final de la semana.\n",
        "\n",
        "Dr. Hans Müller (Cliente):\n",
        "Esto es muy alentador. ¿Cuándo esperan realizar la primera prueba completa del sistema de soldadura?\n",
        "\n",
        "Carlos López (Technical Lead):\n",
        "Si todo sigue según lo planeado, podemos realizar la primera prueba completa del sistema la próxima semana. Queremos asegurarnos de que todas las integraciones y calibraciones estén perfectas antes de comenzar las pruebas de producción.\n",
        "\n",
        "Ana Martínez (Project Manager):\n",
        "De acuerdo. Entonces, nuestros próximos pasos son completar las pruebas finales del sistema de visión y PLC, finalizar la calibración de los robots de soldadura y prepararnos para la primera prueba completa del sistema. ¿Hay alguna otra preocupación o pregunta?\n",
        "\n",
        "Dr. Hans Müller (Cliente):\n",
        "No, esto cubre todas mis inquietudes. Aprecio mucho el esfuerzo y la dedicación del equipo. Espero con ansias los resultados de la primera prueba completa.\n",
        "\n",
        "Ana Martínez (Project Manager):\n",
        "Gracias, Dr. Müller. Nos aseguraremos de mantenerlo informado. Si no hay más preguntas, damos por concluida la reunión. Gracias a todos por su trabajo continuo y su compromiso.\n",
        "\"\"\"\n",
        "\n",
        "meeting_4 = \"\"\"\n",
        "Fecha: 6 de agosto de 2024\n",
        "Hora: 10:00 AM - 11:00 AM\n",
        "Lugar: Sala de Conferencias, Departamento de Automatización\n",
        "Proyecto: Célula de Soldadura para Cliente Alemán del Sector Automóvil\n",
        "\n",
        "Asistentes:\n",
        "\n",
        "Ana Martínez (Project Manager)\n",
        "Carlos López (Technical Lead)\n",
        "Dr. Hans Müller (Cliente, Representante del Cliente Alemán)\n",
        "Elena Rodríguez (Ingeniera de Automatización)\n",
        "Javier García (Ingeniero Mecánico)\n",
        "Luis Fernández (Ingeniero de Calidad)\n",
        "Transcripción de la Reunión:\n",
        "Ana Martínez (Project Manager):\n",
        "Buenos días a todos. Gracias por asistir a esta reunión crucial para nuestro proyecto de la célula de soldadura. Hoy debemos revisar los resultados de la primera prueba completa del sistema y planificar los próximos pasos. Carlos, ¿puedes empezar con un resumen de la prueba?\n",
        "\n",
        "Carlos López (Technical Lead):\n",
        "Buenos días. La primera prueba completa del sistema de soldadura se realizó según lo programado. En general, la prueba fue exitosa. La integración del sistema de visión con el PLC funcionó sin problemas y los robots de soldadura ejecutaron las tareas con precisión. Sin embargo, identificamos algunas áreas que necesitan ajustes, principalmente en la velocidad de procesamiento del sistema de visión y la coordinación entre los robots.\n",
        "\n",
        "Elena Rodríguez (Ingeniera de Automatización):\n",
        "Exacto. Durante la prueba, observamos que en algunas secuencias complejas, el sistema de visión tardaba más de lo esperado en procesar la información, lo que provocaba ligeros retrasos en el ciclo de producción. Estamos ajustando los algoritmos para optimizar el rendimiento.\n",
        "\n",
        "Javier García (Ingeniero Mecánico):\n",
        "Desde el punto de vista mecánico, la calibración de los robots fue precisa, pero detectamos un pequeño desajuste en una de las juntas, lo que causaba una desviación mínima en la trayectoria de soldadura. Ya hemos identificado la causa y estamos en proceso de corregirla.\n",
        "\n",
        "Luis Fernández (Ingeniero de Calidad):\n",
        "En cuanto a la calidad, los resultados fueron satisfactorios. Las soldaduras pasaron las pruebas de resistencia y los defectos fueron detectados correctamente por el sistema de visión. Con los ajustes que Carlos y Elena están realizando, esperamos mejorar aún más la eficiencia y precisión del sistema.\n",
        "\n",
        "Dr. Hans Müller (Cliente):\n",
        "Me alegra escuchar que los resultados son positivos en general. ¿Cuál es el plan de acción para abordar los problemas identificados?\n",
        "\n",
        "Ana Martínez (Project Manager):\n",
        "El plan es el siguiente: Carlos y Elena continuarán optimizando el sistema de visión para reducir los tiempos de procesamiento. Javier se encargará de la corrección mecánica de las juntas de los robots. Luis supervisará las nuevas pruebas de calidad para asegurar que los ajustes mejoren los resultados sin introducir nuevos problemas. Planeamos realizar una segunda prueba completa del sistema en una semana.\n",
        "\n",
        "Dr. Hans Müller (Cliente):\n",
        "Eso suena razonable. Aprecio su diligencia en abordar estos problemas rápidamente. ¿Qué podemos esperar después de la segunda prueba completa?\n",
        "\n",
        "Ana Martínez (Project Manager):\n",
        "Si la segunda prueba completa es exitosa y los ajustes funcionan como esperamos, procederemos a una serie de pruebas de validación durante dos semanas para asegurar que el sistema esté listo para la producción continua. Esto incluirá pruebas de estrés y simulaciones de ciclos de producción extendidos para asegurar la robustez del sistema.\n",
        "\n",
        "Dr. Hans Müller (Cliente):\n",
        "Perfecto. Manténganme informado de los avances. Confío en que el equipo hará un excelente trabajo.\n",
        "\n",
        "Ana Martínez (Project Manager):\n",
        "Gracias, Dr. Müller. Así lo haremos. Si no hay más preguntas o comentarios, damos por concluida la reunión. Gracias a todos por su compromiso y esfuerzo continuo.\n",
        "\"\"\"\n",
        "\n",
        "meeting_5 = \"\"\"\n",
        "Fecha: 13 de agosto de 2024\n",
        "Hora: 10:00 AM - 11:00 AM\n",
        "Lugar: Sala de Conferencias, Departamento de Automatización\n",
        "Proyecto: Célula de Soldadura para Cliente Alemán del Sector Automóvil\n",
        "\n",
        "Asistentes:\n",
        "\n",
        "Ana Martínez (Project Manager)\n",
        "Carlos López (Technical Lead)\n",
        "Dr. Hans Müller (Cliente, Representante del Cliente Alemán)\n",
        "Elena Rodríguez (Ingeniera de Automatización)\n",
        "Javier García (Ingeniero Mecánico)\n",
        "Luis Fernández (Ingeniero de Calidad)\n",
        "Transcripción de la Reunión:\n",
        "Ana Martínez (Project Manager):\n",
        "Buenos días a todos. Gracias por estar aquí. Hoy vamos a revisar los resultados de la segunda prueba completa del sistema de soldadura y planificar los siguientes pasos. Carlos, ¿puedes darnos un resumen de los resultados de la prueba?\n",
        "\n",
        "Carlos López (Technical Lead):\n",
        "Buenos días. La segunda prueba completa del sistema se realizó la semana pasada y me complace informar que fue un éxito. Los ajustes en el sistema de visión redujeron significativamente los tiempos de procesamiento, y los robots de soldadura operaron sin desviaciones después de las correcciones mecánicas. El flujo de trabajo fue fluido y se cumplió con el ciclo de producción esperado.\n",
        "\n",
        "Elena Rodríguez (Ingeniera de Automatización):\n",
        "Así es. Ajustamos los algoritmos del sistema de visión para optimizar la velocidad de procesamiento, y ahora la coordinación con el PLC es perfecta. No observamos retrasos significativos durante la prueba y la integración fue impecable.\n",
        "\n",
        "Javier García (Ingeniero Mecánico):\n",
        "Desde el punto de vista mecánico, la corrección en las juntas de los robots solucionó los problemas de desviación. Las trayectorias de soldadura ahora son precisas y consistentes. Estamos listos para pasar a la siguiente fase de pruebas extendidas.\n",
        "\n",
        "Luis Fernández (Ingeniero de Calidad):\n",
        "En cuanto a la calidad, todas las soldaduras cumplieron con los estándares requeridos. No se detectaron defectos mayores, y el sistema de visión identificó correctamente todas las imperfecciones menores, que fueron corregidas en tiempo real. He preparado un informe detallado que resume estos resultados.\n",
        "\n",
        "Dr. Hans Müller (Cliente):\n",
        "Esto es excelente. Me alegra escuchar que la segunda prueba fue exitosa. ¿Cuál es el plan para las pruebas de validación?\n",
        "\n",
        "Ana Martínez (Project Manager):\n",
        "El plan es iniciar una serie de pruebas de validación durante las próximas dos semanas. Estas pruebas incluirán ciclos de producción extendidos y pruebas de estrés para asegurar la robustez del sistema. Queremos simular condiciones reales de operación para garantizar que el sistema pueda manejar la carga de trabajo continua sin fallos.\n",
        "\n",
        "Carlos López (Technical Lead):\n",
        "Además, durante estas pruebas de validación, monitorizaremos todos los aspectos del sistema, desde la eficiencia del procesamiento del sistema de visión hasta la durabilidad de los componentes mecánicos. También recopilaremos datos detallados para cualquier ajuste final que sea necesario.\n",
        "\n",
        "Dr. Hans Müller (Cliente):\n",
        "Perfecto. ¿Qué tipo de métricas o indicadores estarán monitoreando durante estas pruebas?\n",
        "\n",
        "Luis Fernández (Ingeniero de Calidad):\n",
        "Monitorearemos varias métricas clave, incluyendo el tiempo de ciclo por unidad, la tasa de defectos identificados y corregidos, la consistencia de las soldaduras, y el rendimiento general del sistema bajo condiciones de carga máxima. También evaluaremos la respuesta del sistema a posibles fallos o interrupciones.\n",
        "\n",
        "Ana Martínez (Project Manager):\n",
        "Correcto. Estos indicadores nos ayudarán a evaluar la preparación del sistema para la producción a gran escala y a identificar cualquier ajuste final necesario antes de la entrega final al cliente.\n",
        "\n",
        "Dr. Hans Müller (Cliente):\n",
        "Estoy muy satisfecho con el progreso. Confío en que estas pruebas de validación serán exitosas. Por favor, manténganme informado con informes regulares sobre los resultados.\n",
        "\n",
        "Ana Martínez (Project Manager):\n",
        "Por supuesto, Dr. Müller. Le enviaremos informes detallados regularmente. Si no hay más preguntas o comentarios, damos por concluida la reunión. Gracias a todos por su arduo trabajo y compromiso.\n",
        "\"\"\"\n",
        "\n",
        "meetings = [meeting_1, meeting_2,meeting_3,meeting_4,meeting_5]"
      ],
      "metadata": {
        "id": "Mxcsjw8kv5R-"
      },
      "execution_count": 13,
      "outputs": []
    },
    {
      "cell_type": "code",
      "source": [
        "for i in range(len(meetings)):\n",
        "    prompt = f\"\"\"\n",
        "    Your task is to generate a short summary of a meeting transcription \\\n",
        "    from an automation project in the automotive sector.\n",
        "\n",
        "    Summarize the transcript below in at most 2 paragraph. Start the response adding \\\n",
        "    the meeting date, a short title of maximum 4 words considering the main topics \\\n",
        "    discussed during the meeting. \\\n",
        "\n",
        "    Meeting transcription: ```{meetings[i]}```\n",
        "    \"\"\"\n",
        "\n",
        "    response = get_completion(prompt)\n",
        "    print(response, \"\\n\")"
      ],
      "metadata": {
        "id": "LEXjrC3hwgTv",
        "colab": {
          "base_uri": "https://localhost:8080/"
        },
        "outputId": "f8df4325-a4b5-4a38-b0fc-9c37def956d5"
      },
      "execution_count": 16,
      "outputs": [
        {
          "output_type": "stream",
          "name": "stdout",
          "text": [
            "Meeting Date: July 16, 2024\n",
            "Title: Welding Cell Project\n",
            "\n",
            "During the meeting, the team discussed the progress of the welding cell project for a German automotive client. The Project Manager, Ana, provided an overview of the current status and upcoming steps for the project, with input from the Technical Lead, Carlos, and Mechanical Engineer, Javier. The team has completed the conceptual design and is now focusing on the prototype development, with positive results in electrical schematics, control system design, and mechanical structure simulation.\n",
            "\n",
            "The team also addressed the integration of a vision system for quality control, with successful initial tests showing the system's accuracy meeting requirements. The client, Dr. Müller, expressed satisfaction with the progress and requested weekly detailed reports to stay informed. Overall, the meeting concluded with a clear plan to finalize PLC programming, start mechanical component manufacturing, and continue vision system integration testing, ensuring alignment with the client's expectations. \n",
            "\n",
            "Meeting Date: July 23, 2024\n",
            "Title: Welding Cell Progress\n",
            "\n",
            "During the meeting, the team discussed the progress of the welding cell project for a German automotive client. Dr. Müller, the client representative, expressed satisfaction with the project's advancement but requested more details on the integration schedule of the vision system and final testing. The team provided updates on the vision system integration, mechanical assembly, quality testing, and upcoming steps. The meeting concluded with a positive outlook on the project's progress and a focus on completing the welding cell assembly, vision system integration, and quality testing in the following week. \n",
            "\n",
            "Meeting Date: July 30, 2024\n",
            "Title: Welding Cell Progress\n",
            "\n",
            "During the meeting, the team discussed the progress of the welding cell automation project for a German automotive client. The quality engineer reported positive results from quality tests on assembled components and the vision system integration. The technical lead mentioned that the integration of the vision system with the PLC is almost complete, with final tests scheduled for the week. The mechanical engineer provided an update on the mechanical assembly of the welding cell and the installation of welding robots, which are on track for calibration by the end of the week. The client expressed satisfaction with the progress and looked forward to the upcoming full system test, planned for the following week. Overall, the team's dedication and progress were acknowledged, with a focus on completing final tests and calibrations for the upcoming milestone. \n",
            "\n",
            "Meeting Date: August 6, 2024\n",
            "Title: Welding System Progress\n",
            "\n",
            "During the meeting, the team discussed the results of the first complete test of the welding system for a German automotive client. The test was mostly successful, with some areas identified for improvement, such as the processing speed of the vision system and coordination between the robots. Adjustments are being made to optimize performance. The team outlined a plan of action to address these issues, with a second complete test scheduled for the following week. If successful, further validation tests will be conducted to ensure the system is ready for continuous production.\n",
            "\n",
            "Overall, the team demonstrated diligence in addressing the identified issues promptly, with a focus on improving efficiency and precision. The client expressed confidence in the team's ability to deliver an excellent final product. The meeting concluded with a commitment to ongoing communication and progress updates as the project moves forward. \n",
            "\n",
            "Meeting Date: August 13, 2024\n",
            "Title: Welding System Progress\n",
            "\n",
            "During the meeting, the team reviewed the successful results of the second complete welding system test for the German automotive client. The adjustments made to the vision system significantly improved processing times, and the welding robots operated smoothly after mechanical corrections. The next steps involve initiating a series of validation tests over the next two weeks to ensure the system's robustness under extended production cycles and stress conditions. Key metrics such as cycle time per unit, defect rate, welding consistency, and overall system performance will be closely monitored to assess readiness for large-scale production.\n",
            "\n",
            "Overall, the team, led by Project Manager Ana Martínez and Technical Lead Carlos López, demonstrated a high level of coordination and expertise in optimizing the welding system. The successful test results and detailed quality assurance measures discussed during the meeting reflect a strong commitment to delivering a reliable and efficient automation solution for the automotive sector. The client, Dr. Hans Müller, expressed satisfaction with the progress and emphasized the importance of regular updates on the validation test outcomes, highlighting a collaborative and transparent approach to project management. \n",
            "\n"
          ]
        }
      ]
    },
    {
      "cell_type": "markdown",
      "source": [
        "## Conclusiones\n",
        "\n",
        "Después de las pruebas realizadas y la info recopilada, se presentan las siguientes conclusiones con respecto a la solución planteada para resumir reuniones técnicas en un proyecto de automatización:\n",
        "\n",
        "1. La solución funciona relativamente bien para detectar las tareas que tiene que realizar cada uno de los asistentes en la reunión, siempre y cuando la propia persona sea la que comente sus próximas actividades. Sería interesante entrenar al modelo diciéndole que tome en cuenta si alguien asigna una tarea a una persona, por ejemplo: La project manager le asigna a la programadora que termine el programa del PLC y el modelo está asignado una tarea técnica relacionada a esto a la propia project manager, lo cual es incorrecto.\n",
        "\n",
        "2. El modelo no es capaz del todo de extraer un título de la reunión. Quizás el problema radica en que el prompt no es el más apropiado y la estrategia a seguir sería, a partir del resumen, ir reduciendo cada vez más hasta quedar en una oración con el contenido más importante.\n",
        "\n",
        "3. El proceso iterativo de seguimiento de las reuniones es interesante. Me imagino la posibilidad de ir generando estos resumenes con la fecha de forma automatizada que permita acceder a la información mucho más rápido y eficiente que como se hace hoy en día.\n",
        "\n",
        "4. La tarea de extraer los bullet points la ha hecho bastante bien. Diría que de los mejores resultados obtenidos en las tareas a la que se ha enfrentado el modelo.\n",
        "\n",
        "5. Partiendo que se ha utilizado el modelo 3.5 turbo, sería interesante comparar con modelos más grandes por si puede mejorar los resultados en esas tareas que se ha quedado más 'flojo' y luego valorar si merece la pena el incremento de coste para ello. Quizás, en el desarrollo de una PoC se implementarían distintos modelos adaptados a cada una de las tareas, en lugar de el mismo modelo para todas. Buscando la optimización del budget y ajustando el cómputo para cada necesidad."
      ],
      "metadata": {
        "id": "PKVO2EeCd3xL"
      }
    }
  ]
}